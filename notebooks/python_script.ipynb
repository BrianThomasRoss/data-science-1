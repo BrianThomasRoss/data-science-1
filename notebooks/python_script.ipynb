{
  "nbformat": 4,
  "nbformat_minor": 0,
  "metadata": {
    "colab": {
      "name": "python_script.ipynb",
      "provenance": []
    },
    "kernelspec": {
      "name": "python3",
      "display_name": "Python 3"
    }
  },
  "cells": [
    {
      "cell_type": "markdown",
      "metadata": {
        "id": "TrP5cL6R46JN"
      },
      "source": [
        "#### If Statement"
      ]
    },
    {
      "cell_type": "code",
      "metadata": {
        "colab": {
          "base_uri": "https://localhost:8080/"
        },
        "id": "cKehp_sR43SQ",
        "outputId": "1759b3e0-4a31-4dc4-839c-df12e2c7f1e8"
      },
      "source": [
        "ref = {\n",
        "    1: 3612, \n",
        "    2: 4129, \n",
        "    3: 4645, \n",
        "    4: 5158, \n",
        "    5: 5575,\n",
        "    6: 5965, \n",
        "    7: 6400, \n",
        "    8: 6812\n",
        "}\n",
        "\n",
        "def determine_eligibility(zip, zipRange, family_size, income, ref):\n",
        "  low, high = zipRange[0], zipRange[1]\n",
        "\n",
        "  if zip not in range(low, high):\n",
        "    return f\"Assistance not provided in zip-code: {zip}.\"\n",
        "  \n",
        "  if income <= ref[family_size]:\n",
        "    return \"User qualifies for rental assistance!\"\n",
        "  \n",
        "  return \"Application Pending - income exceeds limit\"\n",
        "\n",
        "\n",
        "result = determine_eligibility(99019, [99001, 99224], 4, 20000, ref)\n",
        "print(result)"
      ],
      "execution_count": 1,
      "outputs": [
        {
          "output_type": "stream",
          "text": [
            "Application Pending - income exceeds limit\n"
          ],
          "name": "stdout"
        }
      ]
    }
  ]
}