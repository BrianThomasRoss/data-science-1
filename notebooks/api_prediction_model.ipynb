{
  "nbformat": 4,
  "nbformat_minor": 0,
  "metadata": {
    "colab": {
      "name": "api_prediction_model.ipynb",
      "provenance": []
    },
    "kernelspec": {
      "name": "python3",
      "display_name": "Python 3"
    }
  },
  "cells": [
    {
      "cell_type": "markdown",
      "metadata": {
        "id": "MKH5mj87xg70"
      },
      "source": [
        "## Hard Encode Input Dictionary\n",
        "\n"
      ]
    },
    {
      "cell_type": "code",
      "metadata": {
        "id": "8zJOUTlXxygD"
      },
      "source": [
        "import pandas as pd"
      ],
      "execution_count": 1,
      "outputs": []
    },
    {
      "cell_type": "code",
      "metadata": {
        "id": "783zidpexkaf"
      },
      "source": [
        "input = {\n",
        "    'zipcode': 99203,\n",
        "    'family_members': 4,\n",
        "    'monthly_income': 2000,\n",
        "}"
      ],
      "execution_count": 2,
      "outputs": []
    },
    {
      "cell_type": "code",
      "metadata": {
        "id": "DJS-ORAwxny9"
      },
      "source": [
        "def framemaker(web_in):\n",
        "# making dataframe out of dict  \n",
        "  input_frame = pd.DataFrame(web_in, index=[0])\n",
        "\n",
        "  input_frame = input_frame[['zipcode', 'family_members', 'monthly_income']]\n",
        "\n",
        "  userinput = input_frame.iloc[[0]]\n",
        "\n",
        "  return userinput "
      ],
      "execution_count": 3,
      "outputs": []
    },
    {
      "cell_type": "code",
      "metadata": {
        "id": "I3GJO0VSxpg7"
      },
      "source": [
        "user_input = framemaker(input)"
      ],
      "execution_count": 4,
      "outputs": []
    },
    {
      "cell_type": "code",
      "metadata": {
        "colab": {
          "base_uri": "https://localhost:8080/",
          "height": 80
        },
        "id": "yI49zmTFxs66",
        "outputId": "f2c34a2e-7779-4dd9-aedb-470381ffc5d5"
      },
      "source": [
        "user_input"
      ],
      "execution_count": 5,
      "outputs": [
        {
          "output_type": "execute_result",
          "data": {
            "text/html": [
              "<div>\n",
              "<style scoped>\n",
              "    .dataframe tbody tr th:only-of-type {\n",
              "        vertical-align: middle;\n",
              "    }\n",
              "\n",
              "    .dataframe tbody tr th {\n",
              "        vertical-align: top;\n",
              "    }\n",
              "\n",
              "    .dataframe thead th {\n",
              "        text-align: right;\n",
              "    }\n",
              "</style>\n",
              "<table border=\"1\" class=\"dataframe\">\n",
              "  <thead>\n",
              "    <tr style=\"text-align: right;\">\n",
              "      <th></th>\n",
              "      <th>zipcode</th>\n",
              "      <th>family_members</th>\n",
              "      <th>monthly_income</th>\n",
              "    </tr>\n",
              "  </thead>\n",
              "  <tbody>\n",
              "    <tr>\n",
              "      <th>0</th>\n",
              "      <td>99203</td>\n",
              "      <td>4</td>\n",
              "      <td>2000</td>\n",
              "    </tr>\n",
              "  </tbody>\n",
              "</table>\n",
              "</div>"
            ],
            "text/plain": [
              "   zipcode  family_members  monthly_income\n",
              "0    99203               4            2000"
            ]
          },
          "metadata": {
            "tags": []
          },
          "execution_count": 5
        }
      ]
    },
    {
      "cell_type": "markdown",
      "metadata": {
        "id": "yDWrvabVx6WL"
      },
      "source": [
        "## Make function that takes in dataframe, uses model, and can make a prediction"
      ]
    },
    {
      "cell_type": "code",
      "metadata": {
        "colab": {
          "base_uri": "https://localhost:8080/"
        },
        "id": "xsKO6j8AyAF1",
        "outputId": "68586c1c-9a03-4f4a-b22f-3d77c2247447"
      },
      "source": [
        "import pandas as pd\n",
        "!pip install category_encoders==2.*\n",
        "from sklearn.model_selection import train_test_split\n",
        "import category_encoders as ce\n",
        "from sklearn.impute import SimpleImputer\n",
        "from sklearn.linear_model import LogisticRegressionCV\n",
        "from sklearn.preprocessing import StandardScaler\n",
        "from sklearn.pipeline import Pipeline\n",
        "from category_encoders import OneHotEncoder, OrdinalEncoder"
      ],
      "execution_count": 6,
      "outputs": [
        {
          "output_type": "stream",
          "text": [
            "Requirement already satisfied: category_encoders==2.* in /usr/local/lib/python3.6/dist-packages (2.2.2)\n",
            "Requirement already satisfied: scikit-learn>=0.20.0 in /usr/local/lib/python3.6/dist-packages (from category_encoders==2.*) (0.22.2.post1)\n",
            "Requirement already satisfied: scipy>=1.0.0 in /usr/local/lib/python3.6/dist-packages (from category_encoders==2.*) (1.4.1)\n",
            "Requirement already satisfied: numpy>=1.14.0 in /usr/local/lib/python3.6/dist-packages (from category_encoders==2.*) (1.19.5)\n",
            "Requirement already satisfied: statsmodels>=0.9.0 in /usr/local/lib/python3.6/dist-packages (from category_encoders==2.*) (0.10.2)\n",
            "Requirement already satisfied: patsy>=0.5.1 in /usr/local/lib/python3.6/dist-packages (from category_encoders==2.*) (0.5.1)\n",
            "Requirement already satisfied: pandas>=0.21.1 in /usr/local/lib/python3.6/dist-packages (from category_encoders==2.*) (1.1.5)\n",
            "Requirement already satisfied: joblib>=0.11 in /usr/local/lib/python3.6/dist-packages (from scikit-learn>=0.20.0->category_encoders==2.*) (1.0.0)\n",
            "Requirement already satisfied: six in /usr/local/lib/python3.6/dist-packages (from patsy>=0.5.1->category_encoders==2.*) (1.15.0)\n",
            "Requirement already satisfied: python-dateutil>=2.7.3 in /usr/local/lib/python3.6/dist-packages (from pandas>=0.21.1->category_encoders==2.*) (2.8.1)\n",
            "Requirement already satisfied: pytz>=2017.2 in /usr/local/lib/python3.6/dist-packages (from pandas>=0.21.1->category_encoders==2.*) (2018.9)\n"
          ],
          "name": "stdout"
        },
        {
          "output_type": "stream",
          "text": [
            "/usr/local/lib/python3.6/dist-packages/statsmodels/tools/_testing.py:19: FutureWarning: pandas.util.testing is deprecated. Use the functions in the public API at pandas.testing instead.\n",
            "  import pandas.util.testing as tm\n"
          ],
          "name": "stderr"
        }
      ]
    },
    {
      "cell_type": "code",
      "metadata": {
        "colab": {
          "base_uri": "https://localhost:8080/",
          "height": 545
        },
        "id": "neFzA8tOqmhQ",
        "outputId": "7c687b2a-612b-4a3f-dd48-88c394a7e7f5"
      },
      "source": [
        "df = pd.read_csv('https://raw.githubusercontent.com/fp-rap-build/data-science/main/data/hud_requirements%20-%20data.csv')\n",
        "\n",
        "df"
      ],
      "execution_count": 7,
      "outputs": [
        {
          "output_type": "execute_result",
          "data": {
            "text/html": [
              "<div>\n",
              "<style scoped>\n",
              "    .dataframe tbody tr th:only-of-type {\n",
              "        vertical-align: middle;\n",
              "    }\n",
              "\n",
              "    .dataframe tbody tr th {\n",
              "        vertical-align: top;\n",
              "    }\n",
              "\n",
              "    .dataframe thead th {\n",
              "        text-align: right;\n",
              "    }\n",
              "</style>\n",
              "<table border=\"1\" class=\"dataframe\">\n",
              "  <thead>\n",
              "    <tr style=\"text-align: right;\">\n",
              "      <th></th>\n",
              "      <th>zipcode</th>\n",
              "      <th>family_members</th>\n",
              "      <th>annual_income_requirements</th>\n",
              "      <th>qualifies</th>\n",
              "    </tr>\n",
              "  </thead>\n",
              "  <tbody>\n",
              "    <tr>\n",
              "      <th>0</th>\n",
              "      <td>99203</td>\n",
              "      <td>1</td>\n",
              "      <td>43350</td>\n",
              "      <td>1</td>\n",
              "    </tr>\n",
              "    <tr>\n",
              "      <th>1</th>\n",
              "      <td>99203</td>\n",
              "      <td>2</td>\n",
              "      <td>49550</td>\n",
              "      <td>1</td>\n",
              "    </tr>\n",
              "    <tr>\n",
              "      <th>2</th>\n",
              "      <td>99203</td>\n",
              "      <td>3</td>\n",
              "      <td>55750</td>\n",
              "      <td>1</td>\n",
              "    </tr>\n",
              "    <tr>\n",
              "      <th>3</th>\n",
              "      <td>99203</td>\n",
              "      <td>4</td>\n",
              "      <td>61900</td>\n",
              "      <td>1</td>\n",
              "    </tr>\n",
              "    <tr>\n",
              "      <th>4</th>\n",
              "      <td>99203</td>\n",
              "      <td>5</td>\n",
              "      <td>66900</td>\n",
              "      <td>1</td>\n",
              "    </tr>\n",
              "    <tr>\n",
              "      <th>5</th>\n",
              "      <td>99203</td>\n",
              "      <td>6</td>\n",
              "      <td>71580</td>\n",
              "      <td>1</td>\n",
              "    </tr>\n",
              "    <tr>\n",
              "      <th>6</th>\n",
              "      <td>99203</td>\n",
              "      <td>7</td>\n",
              "      <td>76800</td>\n",
              "      <td>1</td>\n",
              "    </tr>\n",
              "    <tr>\n",
              "      <th>7</th>\n",
              "      <td>99203</td>\n",
              "      <td>8</td>\n",
              "      <td>81750</td>\n",
              "      <td>1</td>\n",
              "    </tr>\n",
              "    <tr>\n",
              "      <th>8</th>\n",
              "      <td>99203</td>\n",
              "      <td>1</td>\n",
              "      <td>43370</td>\n",
              "      <td>0</td>\n",
              "    </tr>\n",
              "    <tr>\n",
              "      <th>9</th>\n",
              "      <td>99203</td>\n",
              "      <td>2</td>\n",
              "      <td>49570</td>\n",
              "      <td>0</td>\n",
              "    </tr>\n",
              "    <tr>\n",
              "      <th>10</th>\n",
              "      <td>99203</td>\n",
              "      <td>3</td>\n",
              "      <td>55770</td>\n",
              "      <td>0</td>\n",
              "    </tr>\n",
              "    <tr>\n",
              "      <th>11</th>\n",
              "      <td>99203</td>\n",
              "      <td>4</td>\n",
              "      <td>61920</td>\n",
              "      <td>0</td>\n",
              "    </tr>\n",
              "    <tr>\n",
              "      <th>12</th>\n",
              "      <td>99203</td>\n",
              "      <td>5</td>\n",
              "      <td>66920</td>\n",
              "      <td>0</td>\n",
              "    </tr>\n",
              "    <tr>\n",
              "      <th>13</th>\n",
              "      <td>99203</td>\n",
              "      <td>6</td>\n",
              "      <td>71600</td>\n",
              "      <td>0</td>\n",
              "    </tr>\n",
              "    <tr>\n",
              "      <th>14</th>\n",
              "      <td>99203</td>\n",
              "      <td>7</td>\n",
              "      <td>76820</td>\n",
              "      <td>0</td>\n",
              "    </tr>\n",
              "    <tr>\n",
              "      <th>15</th>\n",
              "      <td>99203</td>\n",
              "      <td>8</td>\n",
              "      <td>81770</td>\n",
              "      <td>0</td>\n",
              "    </tr>\n",
              "  </tbody>\n",
              "</table>\n",
              "</div>"
            ],
            "text/plain": [
              "    zipcode  family_members  annual_income_requirements  qualifies\n",
              "0     99203               1                       43350          1\n",
              "1     99203               2                       49550          1\n",
              "2     99203               3                       55750          1\n",
              "3     99203               4                       61900          1\n",
              "4     99203               5                       66900          1\n",
              "5     99203               6                       71580          1\n",
              "6     99203               7                       76800          1\n",
              "7     99203               8                       81750          1\n",
              "8     99203               1                       43370          0\n",
              "9     99203               2                       49570          0\n",
              "10    99203               3                       55770          0\n",
              "11    99203               4                       61920          0\n",
              "12    99203               5                       66920          0\n",
              "13    99203               6                       71600          0\n",
              "14    99203               7                       76820          0\n",
              "15    99203               8                       81770          0"
            ]
          },
          "metadata": {
            "tags": []
          },
          "execution_count": 7
        }
      ]
    },
    {
      "cell_type": "code",
      "metadata": {
        "id": "8vQ-1RF72WAB"
      },
      "source": [
        "df['monthly_income'] = df['annual_income_requirements'].div(12).round(2)"
      ],
      "execution_count": 8,
      "outputs": []
    },
    {
      "cell_type": "code",
      "metadata": {
        "colab": {
          "base_uri": "https://localhost:8080/"
        },
        "id": "eH7ZkCW_yOWk",
        "outputId": "deff4787-d7b5-457c-b765-629123ea0cd1"
      },
      "source": [
        "def model_maker():\n",
        "  train, test = train_test_split(df, train_size=0.80, test_size=0.20, \n",
        "                                 stratify=df['qualifies'], random_state=42)\n",
        "  # select our target \n",
        "  target = 'qualifies'\n",
        "\n",
        "  # Arrange data into X features matrix and y target vector\n",
        "  features = ['zipcode', 'family_members', 'monthly_income']\n",
        "  target = ['qualifies']\n",
        "\n",
        "  X_train = train[features]\n",
        "  y_train = train[target]\n",
        "  X_test = test[features]\n",
        "  y_test = test[target]\n",
        "\n",
        "  lrmodel = Pipeline([\n",
        "                  ('ohe', OneHotEncoder(use_cat_names=True)),\n",
        "                  ('scaler', StandardScaler()),  \n",
        "                  ('impute', SimpleImputer()),\n",
        "                  ('classifier', LogisticRegressionCV())\n",
        "                  ])\n",
        "  lrmodel.fit(X_train, y_train)\n",
        "\n",
        "  return lrmodel\n",
        "\n",
        "lrmodel = model_maker()\n",
        "\n",
        "def predict(user_input):\n",
        "\n",
        "  if lrmodel.predict(user_input) == 1:\n",
        "    predict = {'predict': 'User does not qualify.'}\n",
        "    input.update(predict) \n",
        "    return input\n",
        "  else:\n",
        "    predict = {'predict':'User qualifies for rental assistance!'}\n",
        "    input.update(predict)\n",
        "    return input"
      ],
      "execution_count": 9,
      "outputs": [
        {
          "output_type": "stream",
          "text": [
            "/usr/local/lib/python3.6/dist-packages/category_encoders/utils.py:21: FutureWarning: is_categorical is deprecated and will be removed in a future version.  Use is_categorical_dtype instead\n",
            "  elif pd.api.types.is_categorical(cols):\n",
            "/usr/local/lib/python3.6/dist-packages/sklearn/utils/validation.py:760: DataConversionWarning: A column-vector y was passed when a 1d array was expected. Please change the shape of y to (n_samples, ), for example using ravel().\n",
            "  y = column_or_1d(y, warn=True)\n"
          ],
          "name": "stderr"
        }
      ]
    },
    {
      "cell_type": "code",
      "metadata": {
        "colab": {
          "base_uri": "https://localhost:8080/"
        },
        "id": "gnUPl2xmzIKY",
        "outputId": "57234ea5-bdc3-4ac2-c236-54a87e8474f2"
      },
      "source": [
        "print(predict(user_input))"
      ],
      "execution_count": 11,
      "outputs": [
        {
          "output_type": "stream",
          "text": [
            "{'zipcode': 99203, 'family_members': 4, 'monthly_income': 2000, 'predict': 'User qualifies for rental assistance!'}\n"
          ],
          "name": "stdout"
        }
      ]
    }
  ]
}